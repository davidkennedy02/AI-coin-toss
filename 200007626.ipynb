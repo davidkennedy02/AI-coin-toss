{
 "cells": [
  {
   "cell_type": "markdown",
   "id": "bcba56f4",
   "metadata": {},
   "source": [
    "Import necessary libraries "
   ]
  },
  {
   "cell_type": "code",
   "execution_count": 43,
   "id": "b8f42bb9",
   "metadata": {},
   "outputs": [],
   "source": [
    "import statistics\n",
    "import numpy as np\n",
    "from numpy import inf\n",
    "from matplotlib import pyplot as plt\n",
    "import scipy\n",
    "import math"
   ]
  },
  {
   "cell_type": "markdown",
   "id": "21163688",
   "metadata": {},
   "source": [
    " "
   ]
  },
  {
   "cell_type": "markdown",
   "id": "a4b5dcef",
   "metadata": {},
   "source": [
    "Create the bernoulli probability distribution function - coin flips are bernoullis"
   ]
  },
  {
   "cell_type": "code",
   "execution_count": 44,
   "id": "6f1e01a5",
   "metadata": {},
   "outputs": [],
   "source": [
    "def bernoulli_pdf(p, y):\n",
    "    if y: \n",
    "        return (p)\n",
    "    else: \n",
    "        return (1 - p)"
   ]
  },
  {
   "cell_type": "markdown",
   "id": "3266b3af",
   "metadata": {},
   "source": [
    " "
   ]
  },
  {
   "cell_type": "markdown",
   "id": "115b2789",
   "metadata": {},
   "source": [
    "Calculating the likelihood of a switch at all the possible positions in the data. Sum of the likelihoods will be used to normalise the data in the PosteriorTs function. "
   ]
  },
  {
   "cell_type": "code",
   "execution_count": 45,
   "id": "08c1ecf9",
   "metadata": {},
   "outputs": [],
   "source": [
    "def l_switch(data, p1, p2):\n",
    "    likelihoods = np.zeros(len(data))\n",
    "    for i in range(0, len(likelihoods)-1):\n",
    "        likelihoods[i] = np.prod([bernoulli_pdf(p1, x) for x in data[0:(i)]]) * np.prod([bernoulli_pdf(p2, x) for x in data[i+1:]])\n",
    "    return likelihoods, sum(likelihoods)"
   ]
  },
  {
   "cell_type": "markdown",
   "id": "42ac3fb5",
   "metadata": {},
   "source": [
    " "
   ]
  },
  {
   "cell_type": "markdown",
   "id": "72d412cb",
   "metadata": {},
   "source": [
    "If we attempt to normalise the likelihoods by dividing by zero, this will result in a NaN error. \n",
    "\n",
    "Furthermore, if the likelihoods sum to zero, this means every likelihood within the ls array is zero. There is no point sampling from an array with zero likelihoods for each element - we just return zero. \n",
    "\n",
    "pt is the normalised list of probabilities for the coin swap t. We normalise so that the probabilities add up to one. \n",
    "\n",
    "random.choice allows us to choose a position from data for a switch to be located at - this choice will be dictated by the weights in pt, the normalised list of probabilities. "
   ]
  },
  {
   "cell_type": "code",
   "execution_count": 46,
   "id": "2e3f9217",
   "metadata": {},
   "outputs": [],
   "source": [
    "def tSample(data, p1, p2):\n",
    "    ls, suml = l_switch(data, p1, p2)\n",
    "    if suml == 0.0:\n",
    "        return 0, 0\n",
    "    pt = ls / suml\n",
    "\n",
    "    return pt, np.random.choice(np.arange(len(data)), p=pt)"
   ]
  },
  {
   "cell_type": "markdown",
   "id": "fdc7865b",
   "metadata": {},
   "source": [
    " "
   ]
  },
  {
   "cell_type": "markdown",
   "id": "f0eb53ad",
   "metadata": {},
   "source": [
    "finding the likelihood of a bias for a given coin\n",
    "\n",
    "log the probabilities to prevent numerical underflow\n",
    "\n",
    "use xlogy(x, y) to deal with the boundary case 0*log(0) case gracefully"
   ]
  },
  {
   "cell_type": "code",
   "execution_count": 53,
   "id": "91f0b94c",
   "metadata": {},
   "outputs": [],
   "source": [
    "def l_bias(bias, data):\n",
    "    N = len(data)\n",
    "    N_positive = sum(data)\n",
    "    logL = scipy.special.xlogy(N_positive, bias) + scipy.special.xlogy((N-N_positive), (1-bias))\n",
    "    return logL"
   ]
  },
  {
   "cell_type": "markdown",
   "id": "c09e86e9",
   "metadata": {},
   "source": [
    " "
   ]
  },
  {
   "cell_type": "markdown",
   "id": "11b1f6e3",
   "metadata": {},
   "source": [
    "likelihoods is a list of biases that p1 could take on. \n",
    "\n",
    "logsum is used to normalise likelihoods. \n",
    "\n",
    "posterior_dis is "
   ]
  },
  {
   "cell_type": "code",
   "execution_count": 55,
   "id": "d52b3069",
   "metadata": {},
   "outputs": [],
   "source": [
    "def pSample(data, biases):\n",
    "    likelihoods = [l_bias(bias, data) for bias in biases]\n",
    "    logsum = scipy.special.logsumexp(likelihoods[0]) # likelihoods is a 2d array - accessing the data with [0]\n",
    "    normalised_weights = [math.exp(x - logsum) for x in likelihoods[0]]\n",
    "\n",
    "    return normalised_weights, np.random.choice(biases[0], p=normalised_weights)"
   ]
  },
  {
   "cell_type": "markdown",
   "id": "4514aa2d",
   "metadata": {},
   "source": [
    " "
   ]
  },
  {
   "cell_type": "markdown",
   "id": "e7478be7",
   "metadata": {},
   "source": [
    "Importing the data from the file"
   ]
  },
  {
   "cell_type": "code",
   "execution_count": 50,
   "id": "7b2f29c3",
   "metadata": {},
   "outputs": [],
   "source": [
    "data = []\n",
    "with open('q3_data.txt', 'r') as file:\n",
    "    data = [line.rstrip() for line in file] # getting rid of newline chars \n",
    "data = list(data)\n"
   ]
  },
  {
   "cell_type": "markdown",
   "id": "e23f377b",
   "metadata": {},
   "source": [
    " "
   ]
  },
  {
   "cell_type": "markdown",
   "id": "0fb89b5a",
   "metadata": {},
   "source": [
    "Main Gibbs Sampling function "
   ]
  },
  {
   "cell_type": "code",
   "execution_count": 65,
   "id": "4e9da862",
   "metadata": {},
   "outputs": [],
   "source": [
    "def GibbsSampler(data):\n",
    "\n",
    "    # Calculate the size of the dataset\n",
    "    DL = len(data)\n",
    "\n",
    "    # Calculate the burn in size - half the data length is a nice balance between \n",
    "    # accuracy, and time to run\n",
    "    burnin = int(DL / 2)\n",
    "\n",
    "    # Take a guess at where the switches might be - since \n",
    "    # there are two, we can guess that the data will be split \n",
    "    # into three equal parts\n",
    "    t0 = int(DL/3)\n",
    "    t1 = int((DL/3) * 2)\n",
    "    print(\"Initial guess at t0 = \", t0)\n",
    "    print(\"Initial guess at t1 = \", t1)\n",
    "    \n",
    "    # Replace missing data points with randomly chosen ones and zeros - \n",
    "    # this is just to facilitate an initial guess\n",
    "    temp_data = [x.replace(\"NA\", str(np.random.randint(2))) for x in data ]\n",
    "    \n",
    "    # Convert the list of strings to a list of integers\n",
    "    temp_data = list(map(int,temp_data))\n",
    "    \n",
    "    \n",
    "    # Take a guess at the weighting of the coins based on \n",
    "    # the mean of the values in the appropriate areas\n",
    "    p1 = round(statistics.mean(temp_data[0:t0] + temp_data[t1:]), 2)\n",
    "    print(\"Initial guess at p1 = \", p1)\n",
    "    p2 = round(statistics.mean(temp_data[t0:t1]), 2)\n",
    "    print(\"Initial guess at p2 = \", p2)\n",
    "    \n",
    "    # Visual divider\n",
    "    print(\"\\n-------------------------------------------------\\n\")\n",
    "    \n",
    "    # Generate a list of weightings the coins could be, \n",
    "    # accurate to two decimal places\n",
    "    probabilities = np.arange(0.0, 1.01, 0.01), 1\n",
    "    \n",
    "    # Create an array to store the results of t0, t1, p1, p2\n",
    "    samples = np.zeros(((DL*10)-1, 4))\n",
    "\n",
    "    # Iteratively 'guess' results 'i' times \n",
    "    for i in range(0, DL*10+burnin):\n",
    "        \n",
    "        # Take a copy of data to replace NA or missing values\n",
    "        i_data = data\n",
    "        \n",
    "        # Replace the missing data points with a 1 or a 0, chosen according to \n",
    "        # the missing data's appropriate weighting (p1 or p2)\n",
    "        i_data = [x.replace(\"NA\", (str(np.random.choice([1, 0], p=[p1, 1-p1])))) for x in (i_data[0:t0])] + [x.replace(\"NA\", (str(np.random.choice([1, 0], p=[p2, 1-p2])))) for x in (i_data[t0:t1])]+ [x.replace(\"NA\", (str(np.random.choice([1, 0], p=[p1, 1-p1])))) for x in (i_data[t1:])]\n",
    "        i_data = list(map(int, i_data))\n",
    "        \n",
    "        # Find t0 based on previous t1, p1, and p2\n",
    "        t0  = tSample(i_data[1:t1], p1, p2)[1]\n",
    "        \n",
    "        #Find t1 based on new t0, and previous p1, p2\n",
    "        t1 = tSample(i_data[t0+1:], p2, p1)[1] + t0 \n",
    "\n",
    "        # Find p1 based on new t0 and t1\n",
    "        p1 = pSample(i_data[0:t0] + i_data[t1:], probabilities)[1]\n",
    "\n",
    "        # Find p2 based on new t0 and t1\n",
    "        p2 = pSample(i_data[t0:t1], probabilities)[1]\n",
    "\n",
    "        # If this iteration is past the burn in stage, then \n",
    "        # add it to the samples array\n",
    "        if i > burnin:\n",
    "            samples[i-burnin-1] = [t0, t1, p1, p2]\n",
    "\n",
    "    # Display final results\n",
    "    print(\"T0 = \", round(statistics.mean(samples[:, 0]), 0))\n",
    "    print(\"T1 = \", round(statistics.mean(samples[:, 1]), 0))\n",
    "    print(\"P1 = \", round(statistics.mean(samples[:, 2]), 2))\n",
    "    print(\"P2 = \", round(statistics.mean(samples[:, 3]), 2))\n",
    "\n",
    "    # Return the results array\n",
    "    return samples"
   ]
  },
  {
   "cell_type": "markdown",
   "id": "a83be797",
   "metadata": {},
   "source": [
    " "
   ]
  },
  {
   "cell_type": "markdown",
   "id": "39e1d6e8",
   "metadata": {},
   "source": [
    "We can see the results of the Gibbs Sampling below, along with some illustrative graphs. "
   ]
  },
  {
   "cell_type": "code",
   "execution_count": 57,
   "id": "1f796fae",
   "metadata": {
    "scrolled": true
   },
   "outputs": [
    {
     "name": "stdout",
     "output_type": "stream",
     "text": [
      "Initial guess at t0 =  100\n",
      "Initial guess at t1 =  200\n",
      "Initial guess at p1 =  0.39\n",
      "Initial guess at p2 =  0.74\n",
      "\n",
      "-------------------------------------------------\n",
      "\n",
      "T0 =  109.0\n",
      "T1 =  215.0\n",
      "P1 =  0.35\n",
      "P2 =  0.78\n"
     ]
    }
   ],
   "source": [
    "samples = GibbsSampler(data)"
   ]
  },
  {
   "cell_type": "markdown",
   "id": "87f1130d",
   "metadata": {},
   "source": [
    " "
   ]
  },
  {
   "cell_type": "markdown",
   "id": "f69cd6f6",
   "metadata": {},
   "source": [
    "Histogram showing the frequency of T0 at different points during the dataset."
   ]
  },
  {
   "cell_type": "code",
   "execution_count": 23,
   "id": "4a5c9a06",
   "metadata": {
    "scrolled": false
   },
   "outputs": [
    {
     "data": {
      "image/png": "[encoded data removed]",
      "text/plain": [
       "<Figure size 640x480 with 1 Axes>"
      ]
     },
     "metadata": {},
     "output_type": "display_data"
    }
   ],
   "source": [
    "plt.hist(samples[:, 0], range=[0, len(data)], bins=300)\n",
    "plt.show()"
   ]
  },
  {
   "cell_type": "markdown",
   "id": "731105b1",
   "metadata": {},
   "source": [
    " "
   ]
  },
  {
   "cell_type": "markdown",
   "id": "2ce8d9db",
   "metadata": {},
   "source": [
    "Histogram showing the frequency of T1 at different points during the dataset"
   ]
  },
  {
   "cell_type": "code",
   "execution_count": 24,
   "id": "1f257769",
   "metadata": {
    "scrolled": false
   },
   "outputs": [
    {
     "data": {
      "image/png": "[encoded data removed]",
      "text/plain": [
       "<Figure size 640x480 with 1 Axes>"
      ]
     },
     "metadata": {},
     "output_type": "display_data"
    }
   ],
   "source": [
    "plt.hist(samples[:, 1], range=[0, len(data)], bins=300)\n",
    "plt.show()"
   ]
  },
  {
   "cell_type": "markdown",
   "id": "6fbabf41",
   "metadata": {},
   "source": [
    " "
   ]
  },
  {
   "cell_type": "markdown",
   "id": "51804fb7",
   "metadata": {},
   "source": [
    "Histogram showing the frequency of the various probabilities for the first coin, given T0 and T1"
   ]
  },
  {
   "cell_type": "code",
   "execution_count": 25,
   "id": "d051b7c8",
   "metadata": {},
   "outputs": [
    {
     "data": {
      "image/png": "[encoded data removed]",
      "text/plain": [
       "<Figure size 640x480 with 1 Axes>"
      ]
     },
     "metadata": {},
     "output_type": "display_data"
    }
   ],
   "source": [
    "plt.hist(samples[:, 2], range=[0.00, 1.00], bins=100)\n",
    "plt.show()"
   ]
  },
  {
   "cell_type": "markdown",
   "id": "9d42ca61",
   "metadata": {},
   "source": [
    " "
   ]
  },
  {
   "cell_type": "markdown",
   "id": "2cde90df",
   "metadata": {},
   "source": [
    "Histogram showing the frequency of the various probabilities for the second coin, given T0 and T1"
   ]
  },
  {
   "cell_type": "code",
   "execution_count": 26,
   "id": "f93b3676",
   "metadata": {
    "scrolled": false
   },
   "outputs": [
    {
     "data": {
      "image/png": "[encoded data removed]",
      "text/plain": [
       "<Figure size 640x480 with 1 Axes>"
      ]
     },
     "metadata": {},
     "output_type": "display_data"
    }
   ],
   "source": [
    "plt.hist(samples[:, 3], range=[0.0, 1.0], bins=100)\n",
    "plt.show()"
   ]
  },
  {
   "cell_type": "code",
   "execution_count": 64,
   "id": "343b9a31",
   "metadata": {},
   "outputs": [],
   "source": [
    "dataMissing = []\n",
    "with open('q3_data-missing-values.txt', 'r') as file:\n",
    "    dataMissing = [line.rstrip() for line in file] # getting rid of newline chars \n",
    "dataMissing = list(dataMissing)\n"
   ]
  },
  {
   "cell_type": "code",
   "execution_count": 66,
   "id": "7e2952a3",
   "metadata": {},
   "outputs": [
    {
     "name": "stdout",
     "output_type": "stream",
     "text": [
      "Initial guess at t0 =  100\n",
      "Initial guess at t1 =  200\n",
      "Initial guess at p1 =  0.4\n",
      "Initial guess at p2 =  0.74\n",
      "\n",
      "-------------------------------------------------\n",
      "\n",
      "T0 =  109.0\n",
      "T1 =  215.0\n",
      "P1 =  0.36\n",
      "P2 =  0.77\n"
     ]
    }
   ],
   "source": [
    "samples = GibbsSampler(dataMissing)"
   ]
  },
  {
   "cell_type": "markdown",
   "id": "90ee1c80",
   "metadata": {},
   "source": [
    " "
   ]
  },
  {
   "cell_type": "markdown",
   "id": "8351623f",
   "metadata": {},
   "source": [
    " "
   ]
  }
 ],
 "metadata": {
  "kernelspec": {
   "display_name": "Python 3 (ipykernel)",
   "language": "python",
   "name": "python3"
  },
  "language_info": {
   "codemirror_mode": {
    "name": "ipython",
    "version": 3
   },
   "file_extension": ".py",
   "mimetype": "text/x-python",
   "name": "python",
   "nbconvert_exporter": "python",
   "pygments_lexer": "ipython3",
   "version": "3.9.14"
  }
 },
 "nbformat": 4,
 "nbformat_minor": 5
}
